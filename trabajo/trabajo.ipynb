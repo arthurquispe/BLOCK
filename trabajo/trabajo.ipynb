{
 "cells": [
  {
   "cell_type": "markdown",
   "id": "511b864b",
   "metadata": {},
   "source": [
    "### PRIMERA EDICION HECHA POR ARTHUR"
   ]
  },
  {
   "cell_type": "code",
   "execution_count": 1,
   "id": "02bd965a",
   "metadata": {},
   "outputs": [
    {
     "data": {
      "text/plain": [
       "8"
      ]
     },
     "execution_count": 1,
     "metadata": {},
     "output_type": "execute_result"
    }
   ],
   "source": [
    "X=5 \n",
    "Y=3\n",
    "X+Y"
   ]
  }
 ],
 "metadata": {
  "kernelspec": {
   "display_name": "Python 3 (ipykernel)",
   "language": "python",
   "name": "python3"
  },
  "language_info": {
   "codemirror_mode": {
    "name": "ipython",
    "version": 3
   },
   "file_extension": ".py",
   "mimetype": "text/x-python",
   "name": "python",
   "nbconvert_exporter": "python",
   "pygments_lexer": "ipython3",
   "version": "3.9.12"
  }
 },
 "nbformat": 4,
 "nbformat_minor": 5
}
